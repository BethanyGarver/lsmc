{
 "cells": [
  {
   "cell_type": "code",
   "execution_count": 18,
   "id": "ec967475",
   "metadata": {},
   "outputs": [],
   "source": [
    "import pynbody as pb\n",
    "import matplotlib.pyplot as plt\n",
    "from matplotlib.colors import LogNorm as LN\n",
    "import numpy as np\n",
    "from pynbody.array import SimArray as SRA"
   ]
  },
  {
   "cell_type": "code",
   "execution_count": 2,
   "id": "fb544287",
   "metadata": {},
   "outputs": [
    {
     "name": "stderr",
     "output_type": "stream",
     "text": [
      "/Users/betha1/Library/Python/3.9/lib/python/site-packages/pynbody/snapshot/tipsy.py:1201: UserWarning: log file found, but there was a problem with the starlog metadata. Reverting to guess-and-check\n",
      "  warnings.warn('log file found, but there was a problem with the starlog metadata. '\n"
     ]
    }
   ],
   "source": [
    "starlog=pb.tipsy.StarLog('../chkcombine/chkcombine.starlog')"
   ]
  },
  {
   "cell_type": "code",
   "execution_count": 3,
   "id": "0cf23a65",
   "metadata": {},
   "outputs": [
    {
     "data": {
      "text/plain": [
       "<SimSnap \"../chkcombine/chkcombine.starlog\" len=8499>"
      ]
     },
     "execution_count": 3,
     "metadata": {},
     "output_type": "execute_result"
    }
   ],
   "source": [
    "starlog"
   ]
  },
  {
   "cell_type": "code",
   "execution_count": 5,
   "id": "0c980546",
   "metadata": {},
   "outputs": [
    {
     "data": {
      "text/plain": [
       "['pos',\n",
       " 'x',\n",
       " 'y',\n",
       " 'z',\n",
       " 'vel',\n",
       " 'vx',\n",
       " 'vy',\n",
       " 'vz',\n",
       " 'iord',\n",
       " 'iorderGas',\n",
       " 'massform',\n",
       " 'rhoform',\n",
       " 'tempform',\n",
       " 'metals',\n",
       " 'tform']"
      ]
     },
     "execution_count": 5,
     "metadata": {},
     "output_type": "execute_result"
    }
   ],
   "source": [
    "starlog.keys()"
   ]
  },
  {
   "cell_type": "code",
   "execution_count": 6,
   "id": "5b150aee",
   "metadata": {},
   "outputs": [
    {
     "data": {
      "text/plain": [
       "SimArray([-2.00892458e+00,  8.90845564e-04, -2.38883524e+00, ...,\n",
       "          -3.55880719e+00, -3.01725815e+00, -3.64312650e+00], 'kpc')"
      ]
     },
     "execution_count": 6,
     "metadata": {},
     "output_type": "execute_result"
    }
   ],
   "source": [
    "starlog['x']"
   ]
  },
  {
   "cell_type": "code",
   "execution_count": 9,
   "id": "55b8d475",
   "metadata": {},
   "outputs": [
    {
     "data": {
      "text/plain": [
       "SimArray([536011, 536012, 536013, ..., 544507, 544508, 544509],\n",
       "         dtype=int32)"
      ]
     },
     "execution_count": 9,
     "metadata": {},
     "output_type": "execute_result"
    }
   ],
   "source": [
    "starlog['iord']"
   ]
  },
  {
   "cell_type": "code",
   "execution_count": 10,
   "id": "1fa1985a",
   "metadata": {},
   "outputs": [
    {
     "data": {
      "text/plain": [
       "SimArray([6.000625, 6.000625, 6.000625, ..., 7.      , 7.      , 7.      ], '9.79e-01 Gyr')"
      ]
     },
     "execution_count": 10,
     "metadata": {},
     "output_type": "execute_result"
    }
   ],
   "source": [
    "starlog['tform']"
   ]
  },
  {
   "cell_type": "code",
   "execution_count": 36,
   "id": "3aeba2ac",
   "metadata": {},
   "outputs": [],
   "source": [
    "def rform(simin, starlog, com_times,comtxt, long='no'):\n",
    "\n",
    "    \"\"\"\n",
    "    This calculates rform, zform and rformspherical using the starlog\n",
    "    center of mass.\n",
    "\n",
    "    Returns: rform, zform, rform_spherical or if long = yes Returns\n",
    "    xform, yform, zform\n",
    "    \"\"\"\n",
    "    # simin.physical_units()\n",
    "\n",
    "    # Now load in the posform and store it in x/y/zform variable\n",
    "\n",
    "    posform = starlog.s['pos'][:len(simin.s)]\n",
    "    x_starlog = starlog['x'][(starlog['iord']<=np.max(simin.s['iord']))]#posform[:, 0]\n",
    "    y_starlog = starlog['y'][(starlog['iord']<=np.max(simin.s['iord']))]#posform[:, 1]\n",
    "    z_starlog = starlog['z'][(starlog['iord']<=np.max(simin.s['iord']))]#posform[:, 2]\n",
    "    tform = starlog['tform'][(starlog['iord']<=np.max(simin.s['iord']))]#simin.s['tform']\n",
    "\n",
    "    # Now need to import the COM information from file.\n",
    "    # data = np.genfromtxt(\n",
    "    #     fname=comtxt, names='xcom,ycom,zcom,xang,yang,zang')\n",
    "    xcom = comtxt[:,0][:len(com_times)]\n",
    "    ycom = comtxt[:,1][:len(com_times)]\n",
    "    zcom = comtxt[:,2][:len(com_times)]\n",
    "    xang = comtxt[:,3][:len(com_times)]\n",
    "    yang = comtxt[:,4][:len(com_times)]\n",
    "    zang = comtxt[:,5][:len(com_times)]\n",
    "\n",
    "    # Do a sanity check that xp is increasing (otherwise np.interp returns\n",
    "    # nonsensical values)\n",
    "    if(np.all(np.diff(com_times) > 0)):\n",
    "        xcom_interp = np.interp(tform, com_times, xcom)\n",
    "        ycom_interp = np.interp(tform, com_times, ycom)\n",
    "        zcom_interp = np.interp(tform, com_times, zcom)\n",
    "        xang_interp = np.interp(tform, com_times, xang)\n",
    "        yang_interp = np.interp(tform, com_times, yang)\n",
    "        zang_interp = np.interp(tform, com_times, zang)\n",
    "    else:\n",
    "        raise Exception('com_times does not increase')\n",
    "\n",
    "    # Recenter on the COM at that tform\n",
    "    x_starlog = x_starlog - xcom_interp\n",
    "    y_starlog = y_starlog - ycom_interp\n",
    "    z_starlog = z_starlog - zcom_interp\n",
    "\n",
    "    # Calculate the dot product of rform and the ang mom vectors\n",
    "    rdotj = (x_starlog*xang_interp +\n",
    "             y_starlog*yang_interp + z_starlog*zang_interp)\n",
    "    jmag = np.sqrt(xang_interp**2 + yang_interp**2 + zang_interp**2)\n",
    "\n",
    "    # Set 0 vectors to something small but non zero\n",
    "    jmag[jmag == 0] = 0.00000001\n",
    "\n",
    "    rmag = np.sqrt(x_starlog**2 + y_starlog**2 + z_starlog**2)\n",
    "\n",
    "    zform = np.empty(len(simin.s))\n",
    "    zform = rdotj / jmag\n",
    "\n",
    "    rform = np.empty(len(simin.s))\n",
    "    rform = np.sqrt(rmag**2 - zform**2)\n",
    "\n",
    "    rform_spherical = rmag\n",
    "\n",
    "    if long == 'no':\n",
    "        return SRA(rform,units='kpc'), SRA(zform,units='kpc'), SRA(rform_spherical,units='kpc')\n",
    "    if long == 'yes':\n",
    "        return SRA(x_starlog,units='kpc'), SRA(y_starlog,units='kpc'), SRA(z_starlog,units='kpc')"
   ]
  },
  {
   "cell_type": "code",
   "execution_count": 37,
   "id": "57d85133",
   "metadata": {},
   "outputs": [],
   "source": [
    "COM=np.zeros((50,6))\n",
    "r=pb.filt.BandPass('r','0 kpc','2 kpc')\n",
    "k=0\n",
    "for i in range(602,702,2):\n",
    "    sim=pb.load('../chkcombine/chkcombine.%05d'%i)\n",
    "    lmc = sim.s[:186675]\n",
    "    COM[k][:3]=pb.analysis.halo.center(lmc,mode='hyb',retcen=True)\n",
    "    pb.analysis.halo.center(lmc,mode='hyb',retcen=False)\n",
    "    COM[k][3:]=pb.analysis.angmom.ang_mom_vec(lmc[r])\n",
    "    k+=1\n",
    "sim=pb.load('../chkcombine/chkcombine.%05d'%700)\n",
    "starlog=pb.tipsy.StarLog('../chkcombine/chkcombine.starlog')\n",
    "FORM=rform(sim,starlog,np.arange(6.02,7.0,.02),COM,long='yes')\n",
    "#sim.s['x_form'],sim.s['y_form'],sim.s['z_form']=FORM\n",
    "#sim.s['t_form'] = starlog['tform'][0:len(sim.s)]"
   ]
  },
  {
   "cell_type": "code",
   "execution_count": 35,
   "id": "60369143",
   "metadata": {},
   "outputs": [
    {
     "data": {
      "image/png": "[encoded data removed]",
      "text/plain": [
       "<Figure size 432x288 with 1 Axes>"
      ]
     },
     "metadata": {
      "needs_background": "light"
     },
     "output_type": "display_data"
    }
   ],
   "source": [
    "plt.hist2d(starlog['x'],starlog['y'],bins=100,norm=LN())\n",
    "plt.show()"
   ]
  },
  {
   "cell_type": "code",
   "execution_count": 38,
   "id": "77a0dbae",
   "metadata": {},
   "outputs": [
    {
     "data": {
      "image/png": "[encoded data removed]",
      "text/plain": [
       "<Figure size 432x288 with 1 Axes>"
      ]
     },
     "metadata": {
      "needs_background": "light"
     },
     "output_type": "display_data"
    }
   ],
   "source": [
    "plt.hist2d(FORM[0],FORM[1],bins=100,norm=LN())\n",
    "plt.show()"
   ]
  },
  {
   "cell_type": "code",
   "execution_count": 31,
   "id": "10644b8e",
   "metadata": {},
   "outputs": [
    {
     "data": {
      "image/png": "[encoded data removed]",
      "text/plain": [
       "<Figure size 432x288 with 1 Axes>"
      ]
     },
     "metadata": {
      "needs_background": "light"
     },
     "output_type": "display_data"
    }
   ],
   "source": [
    "plt.hist2d(starlog['x'],starlog['z'],bins=100,norm=LN())\n",
    "plt.show()"
   ]
  },
  {
   "cell_type": "code",
   "execution_count": 39,
   "id": "c2f7008f",
   "metadata": {},
   "outputs": [
    {
     "data": {
      "image/png": "[encoded data removed]",
      "text/plain": [
       "<Figure size 432x288 with 1 Axes>"
      ]
     },
     "metadata": {
      "needs_background": "light"
     },
     "output_type": "display_data"
    }
   ],
   "source": [
    "plt.hist2d(FORM[0],FORM[2],bins=100,norm=LN())\n",
    "plt.show()"
   ]
  },
  {
   "cell_type": "code",
   "execution_count": 28,
   "id": "de61a82c",
   "metadata": {},
   "outputs": [
    {
     "data": {
      "image/png": "[encoded data removed]",
      "text/plain": [
       "<Figure size 432x288 with 1 Axes>"
      ]
     },
     "metadata": {
      "needs_background": "light"
     },
     "output_type": "display_data"
    }
   ],
   "source": [
    "plt.hist2d(lmc['x'],lmc['y'],bins=100,norm=LN())\n",
    "plt.show()"
   ]
  },
  {
   "cell_type": "code",
   "execution_count": 30,
   "id": "92ca5e14",
   "metadata": {},
   "outputs": [
    {
     "data": {
      "text/plain": [
       "array([[-2.95590441e-03,  1.88817642e-02,  2.08957578e-02,\n",
       "         4.76613917e+03,  4.74413169e+03, -3.70947600e+05],\n",
       "       [-4.45845049e-02,  4.13821681e-02,  4.07583335e-02,\n",
       "         6.80241270e+03,  5.93445053e+03, -3.73089938e+05],\n",
       "       [-4.36577710e-02,  8.47694176e-02,  5.97612219e-02,\n",
       "         6.43377712e+03,  6.09548420e+03, -3.73169240e+05],\n",
       "       [-2.64440160e-02,  1.36725991e-01,  7.91778846e-02,\n",
       "         6.37453316e+03,  5.90691190e+03, -3.74378726e+05],\n",
       "       [-2.54134150e-02,  1.52955031e-01,  8.34578400e-02,\n",
       "         5.09300133e+03,  6.31192720e+03, -3.76133861e+05],\n",
       "       [-2.26751413e-02,  1.70340764e-01,  8.45450649e-02,\n",
       "         5.52138010e+03,  7.54825131e+03, -3.76381712e+05],\n",
       "       [-3.30362441e-02,  2.20622496e-01,  8.25543648e-02,\n",
       "         4.83233385e+03,  8.63473365e+03, -3.72443562e+05],\n",
       "       [-4.22784416e-02,  2.20469645e-01,  9.40565711e-02,\n",
       "         3.92113746e+03,  7.23669252e+03, -3.68798587e+05],\n",
       "       [-7.40523235e-02,  2.68040656e-01,  1.06971392e-01,\n",
       "         3.95210264e+03,  6.62990888e+03, -3.65453555e+05],\n",
       "       [-1.14647603e-01,  3.24663816e-01,  1.57699000e-01,\n",
       "         2.18046850e+03,  7.67715047e+03, -3.69187852e+05],\n",
       "       [-1.11413393e-01,  3.64152521e-01,  1.99867917e-01,\n",
       "         2.36321345e+03,  7.32570866e+03, -3.73521722e+05],\n",
       "       [-1.67653924e-01,  4.21197840e-01,  2.30789392e-01,\n",
       "         1.43940604e+03,  5.41818412e+03, -3.72143906e+05],\n",
       "       [-2.15075081e-01,  4.79705551e-01,  2.81669212e-01,\n",
       "         1.04556517e+03,  6.97829487e+03, -3.70704630e+05],\n",
       "       [-3.01263679e-01,  5.62568754e-01,  3.63320336e-01,\n",
       "         1.30992966e+03,  8.19157936e+03, -3.70853109e+05],\n",
       "       [-4.26008594e-01,  7.03012664e-01,  4.60645362e-01,\n",
       "         2.32411952e+02,  7.45373407e+03, -3.68387467e+05],\n",
       "       [-4.99439978e-01,  8.85502871e-01,  5.66717839e-01,\n",
       "        -1.37315171e+03,  5.14320245e+03, -3.67052184e+05],\n",
       "       [-5.65986650e-01,  1.11205404e+00,  6.88588408e-01,\n",
       "        -2.86125118e+03,  5.47155470e+03, -3.65333666e+05],\n",
       "       [-5.80736009e-01,  1.30789069e+00,  8.05309602e-01,\n",
       "        -2.97811404e+03,  6.82710608e+03, -3.66659037e+05],\n",
       "       [-6.11796419e-01,  1.53931052e+00,  9.49610363e-01,\n",
       "        -3.01751837e+03,  6.87824523e+03, -3.63358149e+05],\n",
       "       [-6.11918352e-01,  1.75049967e+00,  1.10150900e+00,\n",
       "        -2.23112442e+03,  5.57158233e+03, -3.61288079e+05],\n",
       "       [-6.34019193e-01,  1.96682835e+00,  1.24191873e+00,\n",
       "        -3.00821326e+03,  4.63941868e+03, -3.64410757e+05],\n",
       "       [-6.55433501e-01,  2.12717960e+00,  1.38286546e+00,\n",
       "        -3.46459731e+03,  4.48256372e+03, -3.67586160e+05],\n",
       "       [-7.18792583e-01,  2.34060011e+00,  1.54711349e+00,\n",
       "        -4.03088468e+03,  4.95931985e+03, -3.68077850e+05],\n",
       "       [-7.40826376e-01,  2.55875428e+00,  1.71379817e+00,\n",
       "        -4.60604081e+03,  5.62615713e+03, -3.63303302e+05],\n",
       "       [-7.52842980e-01,  2.79600410e+00,  1.90319531e+00,\n",
       "        -4.20041885e+03,  4.72752016e+03, -3.62026407e+05],\n",
       "       [-7.77361641e-01,  3.06743161e+00,  2.10876649e+00,\n",
       "        -1.71777280e+03,  5.41271685e+03, -3.58230459e+05],\n",
       "       [-8.43259739e-01,  3.39257849e+00,  2.31598704e+00,\n",
       "        -3.77272972e+03,  4.49271527e+03, -3.61776069e+05],\n",
       "       [-9.15850864e-01,  3.74966391e+00,  2.51187638e+00,\n",
       "        -4.31479937e+03,  1.78573884e+03, -3.70834985e+05],\n",
       "       [-1.00984210e+00,  4.15440970e+00,  2.71769623e+00,\n",
       "        -4.70977056e+03,  1.19947625e+03, -3.70401341e+05],\n",
       "       [-1.11213824e+00,  4.59361850e+00,  2.90752137e+00,\n",
       "        -3.72186366e+03,  1.49489581e+03, -3.69573973e+05],\n",
       "       [-1.26731628e+00,  5.10687333e+00,  3.10989721e+00,\n",
       "        -2.32530053e+03,  1.58123650e+03, -3.68054711e+05],\n",
       "       [-1.43525955e+00,  5.72129982e+00,  3.31553234e+00,\n",
       "         1.05629897e+02,  3.12838399e+03, -3.65959183e+05],\n",
       "       [-1.63857221e+00,  6.41814492e+00,  3.53138469e+00,\n",
       "         9.20726609e+02,  1.48522555e+03, -3.65010885e+05],\n",
       "       [-1.84265592e+00,  7.24155107e+00,  3.73272651e+00,\n",
       "         1.37373599e+03,  1.24162032e+03, -3.65800157e+05],\n",
       "       [-2.04008843e+00,  8.17704033e+00,  3.90380201e+00,\n",
       "         2.07668915e+03, -4.80203544e+02, -3.67629076e+05],\n",
       "       [-2.25453772e+00,  9.29987016e+00,  3.94664547e+00,\n",
       "        -8.81276975e+02, -7.92744437e+02, -3.76876943e+05],\n",
       "       [-2.46313888e+00,  1.05377329e+01,  3.74449612e+00,\n",
       "        -4.37389424e+03, -1.01921501e+03, -4.01696803e+05],\n",
       "       [-2.68499091e+00,  1.16705583e+01,  3.28547914e+00,\n",
       "         8.94254019e+02, -2.09600149e+03, -4.41674206e+05],\n",
       "       [-2.89744676e+00,  1.26497732e+01,  2.67127467e+00,\n",
       "         1.04266967e+04, -2.92612011e+03, -4.52859793e+05],\n",
       "       [-3.05431399e+00,  1.34100741e+01,  2.05025602e+00,\n",
       "         1.32002075e+04, -3.83833302e+03, -4.18800075e+05],\n",
       "       [-3.18610386e+00,  1.39983242e+01,  1.46860095e+00,\n",
       "         1.17903270e+04, -1.28539469e+03, -3.87650306e+05],\n",
       "       [-3.27403931e+00,  1.43716527e+01,  9.82815616e-01,\n",
       "         9.26491621e+03, -1.29858801e+03, -3.75100285e+05],\n",
       "       [-3.38697927e+00,  1.45600207e+01,  5.78925874e-01,\n",
       "         7.80197815e+03, -1.74539724e+03, -3.74660200e+05],\n",
       "       [-3.51647207e+00,  1.46255012e+01,  2.50255921e-01,\n",
       "         8.73489203e+03, -1.49197643e+03, -3.78484098e+05],\n",
       "       [-3.62793458e+00,  1.46177589e+01, -2.19478684e-02,\n",
       "         1.01408840e+04, -2.35601831e+03, -3.80697560e+05],\n",
       "       [-3.71379361e+00,  1.45640928e+01, -2.40894309e-01,\n",
       "         1.22077373e+04, -2.05666141e+03, -3.77484380e+05],\n",
       "       [-3.75597864e+00,  1.44621910e+01, -3.87367070e-01,\n",
       "         1.39586594e+04, -1.66207560e+03, -3.71074789e+05],\n",
       "       [-3.76185251e+00,  1.42967551e+01, -5.23879838e-01,\n",
       "         1.45286560e+04, -3.61722090e+03, -3.65082495e+05],\n",
       "       [-3.72389251e+00,  1.41195351e+01, -6.35298175e-01,\n",
       "         1.68763253e+04, -3.96859847e+03, -3.66576011e+05],\n",
       "       [-3.61157561e+00,  1.38851035e+01, -6.94002027e-01,\n",
       "         1.91377080e+04, -4.41590172e+03, -3.70012145e+05]])"
      ]
     },
     "execution_count": 30,
     "metadata": {},
     "output_type": "execute_result"
    }
   ],
   "source": [
    "COM"
   ]
  },
  {
   "cell_type": "code",
   "execution_count": null,
   "id": "01bc75e5",
   "metadata": {},
   "outputs": [],
   "source": []
  }
 ],
 "metadata": {
  "kernelspec": {
   "display_name": "Python 3 (ipykernel)",
   "language": "python",
   "name": "python3"
  },
  "language_info": {
   "codemirror_mode": {
    "name": "ipython",
    "version": 3
   },
   "file_extension": ".py",
   "mimetype": "text/x-python",
   "name": "python",
   "nbconvert_exporter": "python",
   "pygments_lexer": "ipython3",
   "version": "3.9.13"
  }
 },
 "nbformat": 4,
 "nbformat_minor": 5
}
